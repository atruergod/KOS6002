{
 "cells": [
  {
   "cell_type": "markdown",
   "id": "5334c262",
   "metadata": {},
   "source": [
    "\n",
    "# Randomized Response (Bayesian) — Smoking Prevalence with Stan + cmdstanpy\n",
    "\n",
    "* From ChatGPT 5\n",
    "\n",
    "**Design**: A fair coin is flipped per respondent.  \n",
    "- If **Heads** (앞면), they must answer **YES** (forced YES).  \n",
    "- If **Tails** (뒷면), they answer **truthfully**.  \n",
    "\n",
    "Observed: out of **N = 100**, **YES = 80**, **NO = 20**.  \n",
    "Forced-YES probability: **p = 0.5**.\n",
    "\n",
    "Let the true smoking prevalence be $ \\theta $. \n",
    "\n",
    "Then the probability of observing YES is  \n",
    "$$\n",
    " q = p + (1-p)\\,\\theta.\n",
    "$$  \n",
    "The data model is \\( Y \\sim \\text{Binomial}(N, q) \\).  \n",
    "We use a Beta prior on \\(\\theta\\), \\(\\theta \\sim \\text{Beta}(\\alpha, \\beta)\\).\n",
    "\n",
    "This notebook compiles a Stan model, samples using **cmdstanpy**, and visualizes posterior summaries.\n"
   ]
  },
  {
   "cell_type": "markdown",
   "id": "a2084a10",
   "metadata": {},
   "source": [
    "\n",
    "## 0. Environment Setup\n",
    "\n",
    "- You need **CmdStan** installed for `cmdstanpy` to run Stan models.\n",
    "- The cell below will install `cmdstanpy` (if needed) and attempt to install CmdStan to your home directory (first-time only).\n",
    "- If you already have CmdStan installed, you can skip the `install_cmdstan()` step and set the `CMDSTAN` environment variable accordingly.\n"
   ]
  },
  {
   "cell_type": "code",
   "execution_count": null,
   "id": "167fc19b",
   "metadata": {},
   "outputs": [
    {
     "name": "stdout",
     "output_type": "stream",
     "text": [
      "CmdStan install directory: /Users/yndk/.cmdstan\n",
      "CmdStan version 2.37.0 already installed\n",
      "Test model compilation\n",
      "CMDSTAN path: /Users/yndk/.cmdstan/cmdstan-2.37.0\n",
      "CMDSTAN path: /Users/yndk/.cmdstan/cmdstan-2.37.0\n"
     ]
    }
   ],
   "source": [
    "\n",
    "# If you don't have cmdstanpy installed, uncomment the next line:\n",
    "# !pip install cmdstanpy\n",
    "\n",
    "# Optional: install CmdStan (first time only). This may take several minutes.\n",
    "from cmdstanpy import install_cmdstan\n",
    "install_cmdstan(compiler=True)\n",
    "# After installation, you can check with:\n",
    "import os\n",
    "print(\"CMDSTAN path:\", os.environ.get(\"CMDSTAN\"))\n"
   ]
  },
  {
   "cell_type": "code",
   "execution_count": 20,
   "id": "4c07822a",
   "metadata": {},
   "outputs": [
    {
     "name": "stdout",
     "output_type": "stream",
     "text": [
      "CmdStan install directory: /Users/yndk/.cmdstan\n",
      "CmdStan version 2.37.0 already installed\n",
      "Test model compilation\n"
     ]
    },
    {
     "data": {
      "text/plain": [
       "True"
      ]
     },
     "execution_count": 20,
     "metadata": {},
     "output_type": "execute_result"
    }
   ],
   "source": [
    "import cmdstanpy\n",
    "cmdstanpy.install_cmdstan(compiler=True)"
   ]
  },
  {
   "cell_type": "markdown",
   "id": "4bc73490",
   "metadata": {},
   "source": [
    "\n",
    "## 1. Data & Hyperparameters\n",
    "\n",
    "We set **N=100**, **YES=80**, **p=0.5** (forced YES probability).  \n",
    "You can adjust the Beta prior by changing `alpha`, `beta`.\n"
   ]
  },
  {
   "cell_type": "code",
   "execution_count": 21,
   "id": "4a4814c4",
   "metadata": {},
   "outputs": [
    {
     "name": "stdout",
     "output_type": "stream",
     "text": [
      "{'N': 100, 'y_yes': 80, 'p_forced': 0.5, 'alpha': 1.0, 'beta': 1.0}\n",
      "Method-of-moments theta_hat (for reference only): 0.6000000000000001\n"
     ]
    }
   ],
   "source": [
    "\n",
    "N = 100\n",
    "y_yes = 80\n",
    "p_forced = 0.5\n",
    "\n",
    "# Prior: Beta(alpha, beta). Use (1,1) for uniform, (2,2) for mild shrinkage, etc.\n",
    "alpha = 1.0\n",
    "beta = 1.0\n",
    "\n",
    "print({\"N\": N, \"y_yes\": y_yes, \"p_forced\": p_forced, \"alpha\": alpha, \"beta\": beta})\n",
    "\n",
    "# Quick method-of-moments point estimate (not Bayesian): theta_hat = (q_hat - p)/(1-p)\n",
    "q_hat = y_yes / N\n",
    "theta_hat_mom = max(0.0, min(1.0, (q_hat - p_forced) / (1.0 - p_forced)))\n",
    "print(\"Method-of-moments theta_hat (for reference only):\", theta_hat_mom)\n"
   ]
  },
  {
   "cell_type": "markdown",
   "id": "1efeb4da",
   "metadata": {},
   "source": [
    "\n",
    "## 2. Stan Model\n",
    "\n",
    "We model:\n",
    "- \\( q = p + (1-p)\\,\\theta \\)\n",
    "- \\( Y \\sim \\text{Binomial}(N, q) \\)\n",
    "- Prior: \\( \\theta \\sim \\text{Beta}(\\alpha, \\beta) \\)\n",
    "\n",
    "We also generate a posterior predictive replicate `y_rep` and record a transformed `theta_via_q`.\n"
   ]
  },
  {
   "cell_type": "code",
   "execution_count": null,
   "id": "9511217c",
   "metadata": {},
   "outputs": [
    {
     "name": "stdout",
     "output_type": "stream",
     "text": [
      "Wrote Stan model to rr_yes_model.stan\n"
     ]
    }
   ],
   "source": [
    "\n",
    "stan_code = r\"\"\"\n",
    "data {\n",
    "  int<lower=0> N;                 // total respondents\n",
    "  int<lower=0, upper=N> y_yes;    // observed YES count\n",
    "  real<lower=0, upper=1> p_forced;// forced-YES probability (e.g., 0.5)\n",
    "  real<lower=0> alpha;            // Beta prior alpha\n",
    "  real<lower=0> beta;             // Beta prior beta\n",
    "}\n",
    "parameters {\n",
    "  real<lower=0, upper=1> theta;   // true prevalence\n",
    "}\n",
    "\n",
    "model {\n",
    "  real q;\n",
    "  theta ~ beta(alpha, beta);\n",
    "  q = p_forced + (1.0 - p_forced) * theta;\n",
    "  y_yes ~ binomial(N, q);\n",
    "}\n",
    "\"\"\"\n",
    "\n",
    "#   q = p_forced + (1.0 - p_forced) * theta;_code)\n",
    "\n",
    "print(\"Wrote Stan model to rr_yes_model.stan\")\n"
   ]
  },
  {
   "cell_type": "markdown",
   "id": "6b417653",
   "metadata": {},
   "source": [
    "\n",
    "## 3. Compile & Sample with cmdstanpy\n"
   ]
  },
  {
   "cell_type": "code",
   "execution_count": 27,
   "id": "a4d72bc5",
   "metadata": {},
   "outputs": [
    {
     "name": "stderr",
     "output_type": "stream",
     "text": [
      "15:32:23 - cmdstanpy - INFO - CmdStan start processing\n"
     ]
    },
    {
     "data": {
      "application/vnd.jupyter.widget-view+json": {
       "model_id": "0fedca591a1b4dafbc52dd95a8fc41a9",
       "version_major": 2,
       "version_minor": 0
      },
      "text/plain": [
       "chain 1 |          | 00:00 Status"
      ]
     },
     "metadata": {},
     "output_type": "display_data"
    },
    {
     "data": {
      "application/vnd.jupyter.widget-view+json": {
       "model_id": "0f3b80e4ebda41a4b70e4707dcd5b623",
       "version_major": 2,
       "version_minor": 0
      },
      "text/plain": [
       "chain 2 |          | 00:00 Status"
      ]
     },
     "metadata": {},
     "output_type": "display_data"
    },
    {
     "data": {
      "application/vnd.jupyter.widget-view+json": {
       "model_id": "a12af7d4ca7f412d942212d73fb8c19e",
       "version_major": 2,
       "version_minor": 0
      },
      "text/plain": [
       "chain 3 |          | 00:00 Status"
      ]
     },
     "metadata": {},
     "output_type": "display_data"
    },
    {
     "data": {
      "application/vnd.jupyter.widget-view+json": {
       "model_id": "92f633e256564d49925982cfedd911b1",
       "version_major": 2,
       "version_minor": 0
      },
      "text/plain": [
       "chain 4 |          | 00:00 Status"
      ]
     },
     "metadata": {},
     "output_type": "display_data"
    },
    {
     "name": "stdout",
     "output_type": "stream",
     "text": [
      "                                                                                                                                                                                                                                                                                                                                "
     ]
    },
    {
     "name": "stderr",
     "output_type": "stream",
     "text": [
      "15:32:23 - cmdstanpy - INFO - CmdStan done processing.\n"
     ]
    },
    {
     "name": "stdout",
     "output_type": "stream",
     "text": [
      "\n",
      "Checking sampler transitions treedepth.\n",
      "Treedepth satisfactory for all transitions.\n",
      "\n",
      "Checking sampler transitions for divergences.\n",
      "No divergent transitions found.\n",
      "\n",
      "Checking E-BFMI - sampler transitions HMC potential energy.\n",
      "E-BFMI satisfactory.\n",
      "\n",
      "Rank-normalized split effective sample size satisfactory for all parameters.\n",
      "\n",
      "Rank-normalized split R-hat values satisfactory for all parameters.\n",
      "\n",
      "Processing complete, no problems detected.\n",
      "\n"
     ]
    },
    {
     "data": {
      "text/html": [
       "<div>\n",
       "<style scoped>\n",
       "    .dataframe tbody tr th:only-of-type {\n",
       "        vertical-align: middle;\n",
       "    }\n",
       "\n",
       "    .dataframe tbody tr th {\n",
       "        vertical-align: top;\n",
       "    }\n",
       "\n",
       "    .dataframe thead th {\n",
       "        text-align: right;\n",
       "    }\n",
       "</style>\n",
       "<table border=\"1\" class=\"dataframe\">\n",
       "  <thead>\n",
       "    <tr style=\"text-align: right;\">\n",
       "      <th></th>\n",
       "      <th>Mean</th>\n",
       "      <th>MCSE</th>\n",
       "      <th>StdDev</th>\n",
       "      <th>MAD</th>\n",
       "      <th>5%</th>\n",
       "      <th>50%</th>\n",
       "      <th>95%</th>\n",
       "      <th>ESS_bulk</th>\n",
       "      <th>ESS_tail</th>\n",
       "      <th>ESS_bulk/s</th>\n",
       "      <th>R_hat</th>\n",
       "    </tr>\n",
       "  </thead>\n",
       "  <tbody>\n",
       "    <tr>\n",
       "      <th>lp__</th>\n",
       "      <td>-51.964400</td>\n",
       "      <td>0.020650</td>\n",
       "      <td>0.711218</td>\n",
       "      <td>0.306010</td>\n",
       "      <td>-53.403100</td>\n",
       "      <td>-51.692600</td>\n",
       "      <td>-51.467500</td>\n",
       "      <td>1442.85</td>\n",
       "      <td>1422.25</td>\n",
       "      <td>68707.2</td>\n",
       "      <td>1.00127</td>\n",
       "    </tr>\n",
       "    <tr>\n",
       "      <th>theta</th>\n",
       "      <td>0.589148</td>\n",
       "      <td>0.002110</td>\n",
       "      <td>0.078328</td>\n",
       "      <td>0.078435</td>\n",
       "      <td>0.456976</td>\n",
       "      <td>0.592514</td>\n",
       "      <td>0.712403</td>\n",
       "      <td>1378.00</td>\n",
       "      <td>1439.14</td>\n",
       "      <td>65619.1</td>\n",
       "      <td>1.00137</td>\n",
       "    </tr>\n",
       "    <tr>\n",
       "      <th>y_rep</th>\n",
       "      <td>79.421300</td>\n",
       "      <td>0.123108</td>\n",
       "      <td>5.624830</td>\n",
       "      <td>5.930400</td>\n",
       "      <td>70.000000</td>\n",
       "      <td>80.000000</td>\n",
       "      <td>88.000000</td>\n",
       "      <td>2090.69</td>\n",
       "      <td>2520.76</td>\n",
       "      <td>99556.5</td>\n",
       "      <td>1.00012</td>\n",
       "    </tr>\n",
       "  </tbody>\n",
       "</table>\n",
       "</div>"
      ],
      "text/plain": [
       "            Mean      MCSE    StdDev       MAD         5%        50%  \\\n",
       "lp__  -51.964400  0.020650  0.711218  0.306010 -53.403100 -51.692600   \n",
       "theta   0.589148  0.002110  0.078328  0.078435   0.456976   0.592514   \n",
       "y_rep  79.421300  0.123108  5.624830  5.930400  70.000000  80.000000   \n",
       "\n",
       "             95%  ESS_bulk  ESS_tail  ESS_bulk/s    R_hat  \n",
       "lp__  -51.467500   1442.85   1422.25     68707.2  1.00127  \n",
       "theta   0.712403   1378.00   1439.14     65619.1  1.00137  \n",
       "y_rep  88.000000   2090.69   2520.76     99556.5  1.00012  "
      ]
     },
     "execution_count": 27,
     "metadata": {},
     "output_type": "execute_result"
    }
   ],
   "source": [
    "\n",
    "import os\n",
    "from cmdstanpy import CmdStanModel\n",
    "\n",
    "# Compile the Stan model\n",
    "model = CmdStanModel(stan_file=\"rr_yes_model.stan\")\n",
    "\n",
    "# Prepare data dict for Stan\n",
    "data = {\n",
    "    \"N\": N,\n",
    "    \"y_yes\": y_yes,\n",
    "    \"p_forced\": p_forced,\n",
    "    \"alpha\": alpha,\n",
    "    \"beta\": beta,\n",
    "}\n",
    "\n",
    "# Sample\n",
    "fit = model.sample(\n",
    "    data=data,\n",
    "    chains=4,\n",
    "    parallel_chains=4,\n",
    "    iter_warmup=1000,\n",
    "    iter_sampling=1000,\n",
    "    adapt_delta=0.9,\n",
    "    seed=20251008\n",
    ")\n",
    "\n",
    "print(fit.diagnose())\n",
    "\n",
    "# Summaries\n",
    "summary = fit.summary()\n",
    "summary\n"
   ]
  },
  {
   "cell_type": "markdown",
   "id": "d7c69763",
   "metadata": {},
   "source": [
    "\n",
    "## 4. Extract Posterior & Summaries\n"
   ]
  },
  {
   "cell_type": "code",
   "execution_count": 28,
   "id": "0cdb4603",
   "metadata": {},
   "outputs": [
    {
     "name": "stdout",
     "output_type": "stream",
     "text": [
      "Posterior mean theta: 0.589\n",
      "95% CrI for theta: [0.423, 0.731]\n",
      "Saved posterior draws -> posterior_draws.csv\n"
     ]
    }
   ],
   "source": [
    "\n",
    "import numpy as np\n",
    "import pandas as pd\n",
    "\n",
    "theta = fit.stan_variable(\"theta\")\n",
    "y_rep = fit.stan_variable(\"y_rep\")\n",
    "\n",
    "# Compute credible interval helper\n",
    "\n",
    "def cred_int(x, level=0.95):\n",
    "    lo = (1 - level) / 2\n",
    "    hi = 1 - lo\n",
    "    return np.quantile(x, lo), np.quantile(x, hi)\n",
    "\n",
    "theta_mean = float(np.mean(theta))\n",
    "theta_lo, theta_hi = cred_int(theta, 0.95)\n",
    "\n",
    "print(f\"Posterior mean theta: {theta_mean:.3f}\")\n",
    "print(f\"95% CrI for theta: [{theta_lo:.3f}, {theta_hi:.3f}]\")\n",
    "\n",
    "# Save posterior draws to CSV for external use if needed\n",
    "post = pd.DataFrame({\n",
    "    \"theta\": theta,\n",
    "    \"y_rep\": y_rep,\n",
    "})\n",
    "post.to_csv(\"posterior_draws.csv\", index=False)\n",
    "print(\"Saved posterior draws -> posterior_draws.csv\")\n"
   ]
  },
  {
   "cell_type": "markdown",
   "id": "437f4b3d",
   "metadata": {},
   "source": [
    "\n",
    "## 5. Visualizations\n",
    "\n",
    "We plot:\n",
    "1. Posterior density of \\(\\theta\\)  \n",
    "2. Posterior density of \\(q\\)  \n",
    "3. Posterior predictive distribution of `y_rep`  \n",
    "4. ECDF of \\(\\theta\\)\n"
   ]
  },
  {
   "cell_type": "code",
   "execution_count": 31,
   "id": "898a3c6f",
   "metadata": {},
   "outputs": [
    {
     "data": {
      "image/png": "[encoded data removed]",
      "text/plain": [
       "<Figure size 640x480 with 1 Axes>"
      ]
     },
     "metadata": {},
     "output_type": "display_data"
    },
    {
     "data": {
      "image/png": "[encoded data removed]",
      "text/plain": [
       "<Figure size 640x480 with 1 Axes>"
      ]
     },
     "metadata": {},
     "output_type": "display_data"
    },
    {
     "data": {
      "image/png": "[encoded data removed]",
      "text/plain": [
       "<Figure size 640x480 with 1 Axes>"
      ]
     },
     "metadata": {},
     "output_type": "display_data"
    }
   ],
   "source": [
    "\n",
    "import matplotlib.pyplot as plt\n",
    "\n",
    "# (A) Posterior of theta\n",
    "plt.figure()\n",
    "plt.hist(theta, bins=50, density=True)\n",
    "plt.axvline(theta_mean, linestyle='--')\n",
    "plt.title(\"Posterior of theta (true smoking prevalence)\")\n",
    "plt.xlabel(\"theta\")\n",
    "plt.ylabel(\"density\")\n",
    "plt.tight_layout()\n",
    "plt.show()\n",
    "\n",
    "# (B) Posterior predictive of y_rep\n",
    "plt.figure()\n",
    "plt.hist(y_rep, bins=range(0, N+2), align='left', density=True)\n",
    "plt.axvline(y_yes, linestyle='--')\n",
    "plt.title(\"Posterior Predictive: Y_rep (YES count in next survey)\")\n",
    "plt.xlabel(\"YES count\")\n",
    "plt.ylabel(\"pmf (approx)\")\n",
    "plt.tight_layout()\n",
    "plt.show()\n",
    "\n",
    "# (C) ECDF of theta\n",
    "theta_sorted = np.sort(theta)\n",
    "cdf = np.linspace(0, 1, len(theta_sorted))\n",
    "plt.figure()\n",
    "plt.plot(theta_sorted, cdf)\n",
    "plt.title(\"Empirical CDF of theta\")\n",
    "plt.xlabel(\"theta\")\n",
    "plt.ylabel(\"CDF\"); plt.grid(True);\n",
    "plt.tight_layout()\n",
    "plt.show()\n"
   ]
  },
  {
   "cell_type": "markdown",
   "id": "78d3926b",
   "metadata": {},
   "source": [
    "\n",
    "## 6. Notes & Extensions\n",
    "\n",
    "- **Misclassification**: Add small-error probabilities for forced/true responses to model careless errors.  \n",
    "- **Hierarchical Groups**: If multiple cohorts/years, model \\(\\theta_g\\) with a hierarchical Beta prior.  \n",
    "- **Different Randomizers**: If \\(p\\neq 0.5\\) or rules are asymmetric, replace `p_forced` accordingly.\n",
    "\n",
    "Feel free to modify priors (`alpha`, `beta`) to reflect domain knowledge.\n"
   ]
  }
 ],
 "metadata": {
  "kernelspec": {
   "display_name": "Python 3",
   "language": "python",
   "name": "python3"
  },
  "language_info": {
   "codemirror_mode": {
    "name": "ipython",
    "version": 3
   },
   "file_extension": ".py",
   "mimetype": "text/x-python",
   "name": "python",
   "nbconvert_exporter": "python",
   "pygments_lexer": "ipython3",
   "version": "3.12.10"
  }
 },
 "nbformat": 4,
 "nbformat_minor": 5
}
