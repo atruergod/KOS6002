{
 "cells": [
  {
   "cell_type": "code",
   "execution_count": 1,
   "id": "bc1889cf",
   "metadata": {},
   "outputs": [],
   "source": [
    "# matplotlib.pyplot 모듈을 plt라는 이름으로 가져옵니다.\n",
    "import matplotlib.pyplot as plt\n",
    "# numpy 모듈을 np라는 이름으로 가져옵니다.\n",
    "import numpy as np\n",
    "\n",
    "samples = np.random.randn(1000)"
   ]
  },
  {
   "cell_type": "code",
   "execution_count": 21,
   "id": "05d1a097",
   "metadata": {},
   "outputs": [
    {
     "name": "stdout",
     "output_type": "stream",
     "text": [
      "Data: [ 3.52810469  0.80031442  1.95747597 ...  1.03374436 -0.06584139\n",
      "  2.59622286]\n"
     ]
    },
    {
     "data": {
      "image/png": "[encoded data removed]",
      "text/plain": [
       "<Figure size 200x200 with 1 Axes>"
      ]
     },
     "metadata": {},
     "output_type": "display_data"
    }
   ],
   "source": [
    "# --- 히스토그램 ---\n",
    "# '_mpl-gallery'라는 Matplotlib 스타일을 사용하여 그래프를 꾸밉니다.\n",
    "plt.style.use('_mpl-gallery')\n",
    "# 무작위 값 생성을 위해 시드(seed)를 설정하여 매번 동일한 결과를 얻을 수 있게 합니다.\n",
    "np.random.seed(0)\n",
    "data = np.random.normal(loc=0,scale=2,size=10000)\n",
    "print(\"Data:\", data)\n",
    "# 평균이 4이고 표준편차가 1.5인 정규분포를 따르는 200개의 무작위 데이터를 생성합니다.\n",
    "\n",
    "# plot:\n",
    "# 새로운 figure(전체 그림 창)와 axes(개별 플롯 영역) 객체를 생성합니다.\n",
    "fig, ax = plt.subplots()\n",
    "\n",
    "# 히스토그램을 그립니다.\n",
    "# x: 플롯할 데이터.\n",
    "# bins=8: 히스토그램을 8개의 막대로 나눕니다.\n",
    "# linewidth=0.5: 막대 테두리의 선 두께를 0.5로 설정합니다.\n",
    "# edgecolor=\"white\": 막대 테두리의 색상을 흰색으로 설정합니다.\n",
    "plt.hist(data, bins=20, linewidth=0.5, edgecolor=\"white\")\n",
    "\n",
    "# axes의 속성을 설정합니다.\n",
    "# xlim=(0, 8): x축의 범위를 0부터 8까지로 설정합니다.\n",
    "# xticks=np.arange(1, 8): x축에 1부터 7까지의 눈금을 설정합니다.\n",
    "# ylim=(0, 56): y축의 범위를 0부터 56까지로 설정합니다.\n",
    "# yticks=np.linspace(0, 56, 9): y축에 0부터 56까지 9개의 동일 간격 눈금을 설정합니다.\n",
    "\n",
    "# 그래프를 화면에 표시합니다.\n",
    "plt.show()\n"
   ]
  },
  {
   "cell_type": "code",
   "execution_count": 25,
   "id": "f4d6d5ae",
   "metadata": {},
   "outputs": [
    {
     "name": "stdout",
     "output_type": "stream",
     "text": [
      "Data: [53.52810469 50.80031442 51.95747597 54.4817864  53.73511598 48.04544424\n",
      " 51.90017684 49.69728558 49.7935623  50.821197   50.28808714 52.90854701\n",
      " 51.52207545 50.24335003 50.88772647 50.66734865 52.98815815 49.58968347\n",
      " 50.6261354  48.29180852 44.89402037 51.30723719 51.7288724  48.51566996\n",
      " 54.53950925 47.09126865 50.09151703 49.6256323  53.06555843 52.93871754\n",
      " 50.30989485 50.75632504 48.2244285  46.03840706 49.3041757  50.31269794\n",
      " 52.46058136 52.4047597  49.22534637 49.3953945  47.90289407 47.15996413\n",
      " 46.58745962 53.90155079 48.98069564 49.1238514  47.49440928 51.55498071\n",
      " 46.7722043  49.57451944 48.20906688 50.773805   48.97838972 47.63873563\n",
      " 49.94363554 50.85666374 50.13303444 50.6049438  48.73135581 49.27451767\n",
      " 48.6550791  49.28089368 48.37370744 46.5474348  50.35485228 49.19643813\n",
      " 46.73960331 50.92556451 48.18540327 50.10389079 51.45818112 50.25796582\n",
      " 52.27880137 47.53034836 50.80468328 48.63037982 48.2584057  48.84230067\n",
      " 49.37689494 50.11233068 47.66970032 51.80165297 50.93132488 46.92751263\n",
      " 52.97650439 53.79177835 52.35755914 49.64015033 47.85849476 52.10890345\n",
      " 49.19364611 52.44489014 50.41654996 51.95327807 50.71273279 51.41314634\n",
      " 50.02100004 53.57174099 50.25382419 50.80397873]\n"
     ]
    },
    {
     "data": {
      "image/png": "[encoded data removed]",
      "text/plain": [
       "<Figure size 200x200 with 1 Axes>"
      ]
     },
     "metadata": {},
     "output_type": "display_data"
    }
   ],
   "source": [
    "import numpy as np\n",
    "import matplotlib.pyplot as plt\n",
    "\n",
    "np.random.seed(0)\n",
    "data = np.random.normal(loc=50, scale=2, size=100)\n",
    "print(\"Data:\", data)\n",
    "plt.hist(data, bins=20, color=\"skyblue\", edgecolor=\"black\")\n",
    "plt.title(\"Hiiiiii\")\n",
    "plt.show()"
   ]
  },
  {
   "cell_type": "code",
   "execution_count": 5,
   "id": "a4455f64",
   "metadata": {},
   "outputs": [
    {
     "data": {
      "image/png": "[encoded data removed]",
      "text/plain": [
       "<Figure size 200x200 with 1 Axes>"
      ]
     },
     "metadata": {},
     "output_type": "display_data"
    }
   ],
   "source": [
    "# --- 박스플롯 ---\n",
    "# '_mpl-gallery'라는 Matplotlib 스타일을 사용하여 그래프를 꾸밉니다.\n",
    "plt.style.use('_mpl-gallery')\n",
    "# make data:\n",
    "# 무작위 값 생성을 위해 시드(seed)를 설정합니다.\n",
    "np.random.seed(10)\n",
    "# (100, 3) 형태의 3개 데이터 그룹을 생성합니다.\n",
    "# 각 그룹은 평균 (3, 5, 4)와 표준편차 (1.25, 1.00, 1.25)를 가집니다.\n",
    "D = np.random.normal((3, 5, 4), (1.25, 1.00, 1.25), (100, 3))\n",
    "\n",
    "# plot\n",
    "# 새로운 figure와 axes 객체를 생성합니다.\n",
    "fig, ax = plt.subplots()\n",
    "\n",
    "# 박스플롯을 그립니다.\n",
    "# D: 플롯할 데이터.\n",
    "# positions=[2, 4, 6]: 각 박스의 x축 위치를 2, 4, 6으로 설정합니다.\n",
    "# widths=1.5: 각 박스의 너비를 1.5로 설정합니다.\n",
    "# patch_artist=True: 박스에 색을 칠할 수 있도록 설정합니다.\n",
    "# showmeans=False: 평균을 나타내는 점을 표시하지 않습니다.\n",
    "# showfliers=False: 이상치(outlier)를 표시하지 않습니다.\n",
    "# medianprops={\"...}: 중앙값(median) 선의 속성을 설정합니다 (색상, 선 두께).\n",
    "# boxprops={\"...}: 박스의 속성을 설정합니다 (채우기 색상, 테두리 색상, 선 두께).\n",
    "# whiskerprops={\"...}: 수염(whisker) 선의 속성을 설정합니다 (색상, 선 두께).\n",
    "# capprops={\"...}: 캡(cap) 선의 속성을 설정합니다 (색상, 선 두께).\n",
    "VP = ax.boxplot(D, positions=[2, 4, 6], widths=1.5, patch_artist=True,\n",
    "                showmeans=False, showfliers=False,\n",
    "                medianprops={\"color\": \"white\", \"linewidth\": 0.5},\n",
    "                boxprops={\"facecolor\": \"C0\", \"edgecolor\": \"white\",\n",
    "                          \"linewidth\": 0.5},\n",
    "                whiskerprops={\"color\": \"C0\", \"linewidth\": 1.5},\n",
    "                capprops={\"color\": \"C0\", \"linewidth\": 1.5})\n",
    "\n",
    "# axes의 속성을 설정합니다.\n",
    "# xlim=(0, 8): x축 범위를 0부터 8까지로 설정합니다.\n",
    "# xticks=np.arange(1, 8): x축에 1부터 7까지의 눈금을 설정합니다.\n",
    "# ylim=(0, 8): y축 범위를 0부터 8까지로 설정합니다.\n",
    "# yticks=np.arange(1, 8): y축에 1부터 7까지의 눈금을 설정합니다.\n",
    "ax.set(xlim=(0, 8), xticks=np.arange(1, 8),\n",
    "       ylim=(0, 8), yticks=np.arange(1, 8))\n",
    "\n",
    "# 그래프를 화면에 표시합니다.\n",
    "plt.show()"
   ]
  },
  {
   "cell_type": "code",
   "execution_count": 7,
   "id": "f6f178d6",
   "metadata": {},
   "outputs": [
    {
     "data": {
      "image/png": "[encoded data removed]",
      "text/plain": [
       "<Figure size 200x200 with 1 Axes>"
      ]
     },
     "metadata": {},
     "output_type": "display_data"
    }
   ],
   "source": [
    "# --- 에러바 ---\n",
    "# '_mpl-gallery'라는 Matplotlib 스타일을 사용하여 그래프를 꾸밉니다.\n",
    "plt.style.use('_mpl-gallery')\n",
    "# make data:\n",
    "# 무작위 값 생성을 위해 시드(seed)를 설정합니다.\n",
    "np.random.seed(10)\n",
    "# x축 데이터입니다.\n",
    "x = [1, 3, 5]\n",
    "# y축 데이터입니다.\n",
    "y = [2.1, 5, 3.5]\n",
    "# y축 에러바의 길이입니다.\n",
    "yerr = [0.9, 1.2, 0.5]\n",
    "\n",
    "# plot:\n",
    "# 새로운 figure와 axes 객체를 생성합니다.\n",
    "fig, ax = plt.subplots()\n",
    "\n",
    "# 에러바 플롯을 그립니다.\n",
    "# x: x축 데이터.\n",
    "# y: y축 데이터.\n",
    "# yerr: y축 에러의 크기.\n",
    "# fmt='o': 데이터 포인트를 원형('o')으로 표시합니다.\n",
    "# linewidth=2: 에러바의 선 두께를 2로 설정합니다.\n",
    "# capsize=6: 에러바 끝의 캡(cap) 크기를 6으로 설정합니다.\n",
    "ax.errorbar(x, y, yerr, fmt='o', linewidth=2, capsize=6)\n",
    "\n",
    "# axes의 속성을 설정합니다.\n",
    "ax.set(xlim=(0, 8), xticks=np.arange(1, 8),\n",
    "       ylim=(0, 8), yticks=np.arange(1, 8))\n",
    "\n",
    "# 그래프를 화면에 표시합니다.\n",
    "plt.show()"
   ]
  },
  {
   "cell_type": "code",
   "execution_count": 27,
   "id": "7717f354",
   "metadata": {},
   "outputs": [
    {
     "name": "stdout",
     "output_type": "stream",
     "text": [
      "(200, 3)\n"
     ]
    },
    {
     "data": {
      "image/png": "[encoded data removed]",
      "text/plain": [
       "<Figure size 200x200 with 1 Axes>"
      ]
     },
     "metadata": {},
     "output_type": "display_data"
    }
   ],
   "source": [
    "# --- 바이올린플롯 ---\n",
    "# '_mpl-gallery'라는 Matplotlib 스타일을 사용하여 그래프를 꾸밉니다.\n",
    "plt.style.use('_mpl-gallery')\n",
    "# make data:\n",
    "# 무작위 값 생성을 위해 시드(seed)를 설정합니다.\n",
    "np.random.seed(1000)\n",
    "# (200, 3) 형태의 3개 데이터 그룹을 생성합니다.\n",
    "# 각 그룹은 평균 (3, 5, 4)와 표준편차 (0.75, 1.00, 0.75)를 가집니다.\n",
    "D = np.random.normal((3, 5, 4), (0.75, 1.00, 0.75), (200, 3))\n",
    "print(D.shape)\n",
    "# plot:\n",
    "# 새로운 figure와 axes 객체를 생성합니다.\n",
    "fig, ax = plt.subplots()\n",
    "\n",
    "# 바이올린플롯을 그립니다.\n",
    "# D: 플롯할 데이터.\n",
    "# [2, 4, 6]: 각 바이올린의 x축 위치를 설정합니다.\n",
    "# widths=2: 각 바이올린의 너비를 2로 설정합니다.\n",
    "# showmeans=False: 평균을 나타내는 점을 표시하지 않습니다.\n",
    "# showmedians=False: 중앙값을 나타내는 선을 표시하지 않습니다.\n",
    "# showextrema=False: 극단값(최소/최대)을 표시하지 않습니다.\n",
    "vp = ax.violinplot(D, [2, 4, 6], widths=2,\n",
    "                   showmeans=False, showmedians=False, showextrema=False)\n",
    "# styling:\n",
    "# 바이올린 본체에 접근하여 스타일을 적용합니다.\n",
    "# body.set_alpha(0.9): 각 바이올린의 투명도를 0.9로 설정합니다.\n",
    "for body in vp['bodies']:\n",
    "    body.set_alpha(0.9)\n",
    "# axes의 속성을 설정합니다.\n",
    "ax.set(xlim=(0, 8), xticks=np.arange(1, 8),\n",
    "       ylim=(0, 8), yticks=np.arange(1, 8))\n",
    "\n",
    "# 그래프를 화면에 표시합니다.\n",
    "plt.show()\n"
   ]
  },
  {
   "cell_type": "code",
   "execution_count": 28,
   "id": "d2761e23",
   "metadata": {},
   "outputs": [
    {
     "data": {
      "image/png": "[encoded data removed]",
      "text/plain": [
       "<Figure size 200x200 with 1 Axes>"
      ]
     },
     "metadata": {},
     "output_type": "display_data"
    }
   ],
   "source": [
    "# --- 이벤트플롯 ---\n",
    "\n",
    "# make data:\n",
    "# 무작위 값 생성을 위해 시드(seed)를 설정합니다.\n",
    "np.random.seed(1)\n",
    "# x축 위치 데이터입니다.\n",
    "x = [2, 4, 6]\n",
    "# (3, 50) 형태의 3개 데이터 그룹을 생성합니다.\n",
    "D = np.random.gamma(4, size=(3, 50))\n",
    "\n",
    "# plot:\n",
    "# 새로운 figure와 axes 객체를 생성합니다.\n",
    "fig, ax = plt.subplots()\n",
    "\n",
    "# 이벤트플롯을 그립니다.\n",
    "# D: 이벤트 데이터. 각 행은 하나의 라인을 나타냅니다.\n",
    "# orientation=\"vertical\": 이벤트를 수직 방향으로 그립니다.\n",
    "# lineoffsets=x: 각 이벤트 라인의 x축 위치를 설정합니다.\n",
    "# linewidth=0.75: 이벤트 라인의 선 두께를 0.75로 설정합니다.\n",
    "ax.eventplot(D, orientation=\"vertical\", lineoffsets=x, linewidth=0.75)\n",
    "\n",
    "# axes의 속성을 설정합니다.\n",
    "ax.set(xlim=(0, 8), xticks=np.arange(1, 8),\n",
    "       ylim=(0, 8), yticks=np.arange(1, 8))\n",
    "\n",
    "# 그래프를 화면에 표시합니다.\n",
    "plt.show()"
   ]
  },
  {
   "cell_type": "code",
   "execution_count": 29,
   "id": "e30191d6",
   "metadata": {},
   "outputs": [
    {
     "data": {
      "image/png": "[encoded data removed]",
      "text/plain": [
       "<Figure size 200x200 with 1 Axes>"
      ]
     },
     "metadata": {},
     "output_type": "display_data"
    }
   ],
   "source": [
    "# --- 히스토2D ---\n",
    "# 그리드가 없는 스타일을 사용합니다.\n",
    "plt.style.use('_mpl-gallery-nogrid')\n",
    "\n",
    "# make data: correlated + noise\n",
    "# 무작위 값 생성을 위해 시드(seed)를 설정합니다.\n",
    "np.random.seed(1)\n",
    "# 5000개의 무작위 데이터를 생성합니다.\n",
    "x = np.random.randn(5000)\n",
    "# y는 x에 1.2를 곱하고 노이즈를 추가하여 x와 상관관계를 가지게 합니다.\n",
    "y = 1.2 * x + np.random.randn(5000) / 3\n",
    "\n",
    "# plot:\n",
    "# 새로운 figure와 axes 객체를 생성합니다.\n",
    "fig, ax = plt.subplots()\n",
    "\n",
    "# 2D 히스토그램을 그립니다.\n",
    "# x, y: 플롯할 데이터의 x, y 좌표.\n",
    "# bins=(..., ...): x축과 y축에 대한 막대(bin)의 경계를 지정합니다.\n",
    "ax.hist2d(x, y, bins=(np.arange(-3, 3, 0.1), np.arange(-3, 3, 0.1)))\n",
    "\n",
    "# axes의 x, y축 범위를 설정합니다.\n",
    "ax.set(xlim=(-2, 2), ylim=(-3, 3))\n",
    "\n",
    "# 그래프를 화면에 표시합니다.\n",
    "plt.show()"
   ]
  },
  {
   "cell_type": "code",
   "execution_count": 30,
   "id": "57d59dc5",
   "metadata": {},
   "outputs": [
    {
     "data": {
      "image/png": "[encoded data removed]",
      "text/plain": [
       "<Figure size 200x200 with 1 Axes>"
      ]
     },
     "metadata": {},
     "output_type": "display_data"
    }
   ],
   "source": [
    "# --- 헥스빈 ---\n",
    "# 그리드가 없는 스타일을 사용합니다.\n",
    "plt.style.use('_mpl-gallery-nogrid')\n",
    "# make data: correlated + noise\n",
    "# 무작위 값 생성을 위해 시드(seed)를 설정합니다.\n",
    "np.random.seed(1)\n",
    "# 5000개의 무작위 데이터를 생성합니다.\n",
    "x = np.random.randn(5000)\n",
    "# y는 x에 1.2를 곱하고 노이즈를 추가하여 x와 상관관계를 가집니다.\n",
    "y = 1.2 * x + np.random.randn(5000) / 3\n",
    "\n",
    "# plot:\n",
    "# 새로운 figure와 axes 객체를 생성합니다.\n",
    "fig, ax = plt.subplots()\n",
    "\n",
    "# 육각형 모양의 2D 히스토그램을 그립니다.\n",
    "# x, y: 플롯할 데이터의 x, y 좌표.\n",
    "# gridsize=20: 육각형 그리드의 크기를 설정합니다.\n",
    "ax.hexbin(x, y, gridsize=20)\n",
    "\n",
    "# axes의 x, y축 범위를 설정합니다.\n",
    "ax.set(xlim=(-2, 2), ylim=(-3, 3))\n",
    "\n",
    "# 그래프를 화면에 표시합니다.\n",
    "plt.show()"
   ]
  },
  {
   "cell_type": "code",
   "execution_count": 31,
   "id": "d281bd16",
   "metadata": {},
   "outputs": [
    {
     "data": {
      "image/png": "[encoded data removed]",
      "text/plain": [
       "<Figure size 200x200 with 1 Axes>"
      ]
     },
     "metadata": {},
     "output_type": "display_data"
    }
   ],
   "source": [
    "# --- 파이 ---\n",
    "# 그리드가 없는 스타일을 사용합니다.\n",
    "plt.style.use('_mpl-gallery-nogrid')\n",
    "# make data\n",
    "# 파이 차트의 각 조각에 해당하는 데이터입니다.\n",
    "x = [1, 2, 3, 4]\n",
    "# 파이 차트 조각의 색상을 설정합니다. 'Blues' 컬러맵에서 4개의 색상을 선택합니다.\n",
    "colors = plt.get_cmap('Blues')(np.linspace(0.2, 0.7, len(x)))\n",
    "\n",
    "# plot\n",
    "# 새로운 figure와 axes 객체를 생성합니다.\n",
    "fig, ax = plt.subplots()\n",
    "# 파이 차트를 그립니다.\n",
    "# x: 각 조각의 크기를 결정하는 데이터.\n",
    "# colors=colors: 각 조각에 적용할 색상 리스트.\n",
    "# radius=3: 파이 차트의 반지름을 3으로 설정합니다.\n",
    "# center=(4, 4): 파이 차트의 중심 좌표를 (4, 4)로 설정합니다.\n",
    "# wedgeprops={\"...}: 각 조각의 쐐기(wedge) 속성을 설정합니다 (선 두께, 테두리 색상).\n",
    "# frame=True: 파이 차트 주변에 원형 프레임을 그립니다.\n",
    "ax.pie(x, colors=colors, radius=3, center=(4, 4),\n",
    "       wedgeprops={\"linewidth\": 1, \"edgecolor\": \"white\"}, frame=True)\n",
    "\n",
    "# axes의 속성을 설정합니다.\n",
    "ax.set(xlim=(0, 8), xticks=np.arange(1, 8),\n",
    "       ylim=(0, 8), yticks=np.arange(1, 8))\n",
    "\n",
    "# 그래프를 화면에 표시합니다.\n",
    "plt.show()"
   ]
  },
  {
   "cell_type": "code",
   "execution_count": null,
   "id": "09472ab2",
   "metadata": {},
   "outputs": [],
   "source": [
    "# --- ECDF (경험적 누적 분포 함수) ---\n",
    "# '_mpl-gallery'라는 Matplotlib 스타일을 사용하여 그래프를 꾸밉니다.\n",
    "plt.style.use('_mpl-gallery')\n",
    "# make data\n",
    "# 무작위 값 생성을 위해 시드(seed)를 설정합니다.\n",
    "np.random.seed(1)\n",
    "# 평균이 4이고 표준편차가 1.5인 정규분포를 따르는 200개의 무작위 데이터를 생성합니다.\n",
    "x = 4 + np.random.normal(0, 1.5, 200)\n",
    "\n",
    "# plot:\n",
    "# 새로운 figure와 axes 객체를 생성합니다.\n",
    "fig, ax = plt.subplots()\n",
    "# ECDF 플롯을 그립니다.\n",
    "# x: 데이터를 나타냅니다.\n",
    "ax.ecdf(x)\n",
    "# 그래프를 화면에 표시합니다.\n",
    "plt.show()"
   ]
  }
 ],
 "metadata": {
  "kernelspec": {
   "display_name": ".venv",
   "language": "python",
   "name": "python3"
  },
  "language_info": {
   "codemirror_mode": {
    "name": "ipython",
    "version": 3
   },
   "file_extension": ".py",
   "mimetype": "text/x-python",
   "name": "python",
   "nbconvert_exporter": "python",
   "pygments_lexer": "ipython3",
   "version": "3.11.9"
  }
 },
 "nbformat": 4,
 "nbformat_minor": 5
}
